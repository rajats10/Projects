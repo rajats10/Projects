{
 "cells": [
  {
   "cell_type": "code",
   "execution_count": null,
   "metadata": {},
   "outputs": [],
   "source": [
    "repeat = True\n",
    "Cel = 'Celcius'\n",
    "Fah = 'Fahrenhiet'\n",
    "\n",
    "while repeat:\n",
    "    I = input('What is your unit of temperature (Press C for Celcius, Press F for Fahrenhiet) : ')\n",
    "\n",
    "    if I == 'C' or I == 'c':\n",
    "        print(f'\\nInput temperature is in {Cel}')\n",
    "        C = input('Please enter the temperature here: ')\n",
    "        print(f'The temperature in {Fah} = {(9/5)*float(C) + 32}')\n",
    "    \n",
    "    elif I == 'F' or I == 'f':\n",
    "        print(f'\\nInput temperature is in {Fah}')\n",
    "        F = input('Please enter the temperature here: ')\n",
    "        print(f'The temperature in {Cel} = {(5/9)*(float(F) - 32)}')\n",
    "    \n",
    "    else:\n",
    "        print(\"Input unit can only be in Celcius or Fahrenhiet.\")\n",
    "        continue\n",
    "\n",
    "    print(\"Do you want value of another temperature?\")\n",
    "    repeat = (\"y\" or \"yes\" or 'Y' or \"Yes\") in input().lower()\n",
    "    \n",
    "print('More units coming soon!')\n"
   ]
  },
  {
   "cell_type": "code",
   "execution_count": null,
   "metadata": {
    "collapsed": true
   },
   "outputs": [],
   "source": []
  }
 ],
 "metadata": {
  "kernelspec": {
   "display_name": "Python 3",
   "language": "python",
   "name": "python3"
  },
  "language_info": {
   "codemirror_mode": {
    "name": "ipython",
    "version": 3
   },
   "file_extension": ".py",
   "mimetype": "text/x-python",
   "name": "python",
   "nbconvert_exporter": "python",
   "pygments_lexer": "ipython3",
   "version": "3.6.1"
  }
 },
 "nbformat": 4,
 "nbformat_minor": 2
}
